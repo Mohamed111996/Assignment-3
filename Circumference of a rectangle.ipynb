{
 "cells": [
  {
   "cell_type": "markdown",
   "metadata": {},
   "source": [
    "# Task (1.b)\n",
    "## Circumference of a rectangle"
   ]
  },
  {
   "cell_type": "code",
   "execution_count": 1,
   "metadata": {},
   "outputs": [
    {
     "name": "stdout",
     "output_type": "stream",
     "text": [
      "Enter the short distance : 4.3\n",
      "Enter the long distance : 5.1\n",
      "width=4.3, length=5.1   \"Then\" The circumference = 18.799999999999997\n"
     ]
    }
   ],
   "source": [
    "width = float(input(\"Enter the short distance : \"))\n",
    "length = float(input(\"Enter the long distance : \"))\n",
    "circ = 2 * (width + length)\n",
    "print(f\"width={width}, length={length}   \\\"Then\\\" The circumference = {circ}\")"
   ]
  }
 ],
 "metadata": {
  "kernelspec": {
   "display_name": "Python 3",
   "language": "python",
   "name": "python3"
  },
  "language_info": {
   "codemirror_mode": {
    "name": "ipython",
    "version": 3
   },
   "file_extension": ".py",
   "mimetype": "text/x-python",
   "name": "python",
   "nbconvert_exporter": "python",
   "pygments_lexer": "ipython3",
   "version": "3.7.6"
  }
 },
 "nbformat": 4,
 "nbformat_minor": 4
}
