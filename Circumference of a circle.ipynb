{
 "cells": [
  {
   "cell_type": "markdown",
   "metadata": {},
   "source": [
    "# Task (1.a)\n",
    "## Circumference of a circle"
   ]
  },
  {
   "cell_type": "code",
   "execution_count": 1,
   "metadata": {},
   "outputs": [
    {
     "name": "stdout",
     "output_type": "stream",
     "text": [
      "Enter the radius : 15.5\n",
      "The radius is  :15.5  \"then\" The circumference is  :97.42857142857143\n"
     ]
    }
   ],
   "source": [
    "radius = float(input(\"Enter the radius : \"))\n",
    "circ = 2 * (22/7) * radius\n",
    "print(f\"The radius is  :{radius}  \\\"then\\\" The circumference is  :{circ}\")"
   ]
  }
 ],
 "metadata": {
  "kernelspec": {
   "display_name": "Python 3",
   "language": "python",
   "name": "python3"
  },
  "language_info": {
   "codemirror_mode": {
    "name": "ipython",
    "version": 3
   },
   "file_extension": ".py",
   "mimetype": "text/x-python",
   "name": "python",
   "nbconvert_exporter": "python",
   "pygments_lexer": "ipython3",
   "version": "3.7.6"
  }
 },
 "nbformat": 4,
 "nbformat_minor": 4
}
